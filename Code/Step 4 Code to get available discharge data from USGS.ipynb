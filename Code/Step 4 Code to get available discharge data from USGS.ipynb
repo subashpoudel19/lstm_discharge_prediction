{
 "cells": [
  {
   "cell_type": "code",
   "execution_count": 25,
   "metadata": {},
   "outputs": [
    {
     "name": "stdout",
     "output_type": "stream",
     "text": [
      "                            site_no  00060_Mean 00060_Mean_cd\n",
      "datetime                                                     \n",
      "2008-10-29 00:00:00+00:00  07374525    259000.0             A\n",
      "2008-10-30 00:00:00+00:00  07374525    247000.0             A\n",
      "2008-10-31 00:00:00+00:00  07374525    243000.0             A\n",
      "2008-11-01 00:00:00+00:00  07374525    243000.0             A\n",
      "2008-11-02 00:00:00+00:00  07374525    227000.0             A\n"
     ]
    }
   ],
   "source": [
    "from dataretrieval import nwis\n",
    "\n",
    "# Define the station ID and parameter code for daily discharge\n",
    "station_id = '07374525'\n",
    "parameter_cd = '00060'  # Parameter code for discharge (streamflow)\n",
    "\n",
    "# Fetch daily discharge data\n",
    "df = nwis.get_record(sites=station_id, service='dv', parameterCd=parameter_cd, start='1900-01-01', end='2024-12-31')\n",
    "\n",
    "# Display the first few rows of the data\n",
    "print(df.head())\n",
    "\n",
    "# Optionally, save the data to a CSV file\n",
    "df.to_csv(f'USGS_{station_id}_discharge.csv', index=True)\n"
   ]
  },
  {
   "cell_type": "code",
   "execution_count": 26,
   "metadata": {},
   "outputs": [],
   "source": [
    "import os\n",
    "import pandas as pd\n",
    "\n",
    "def convert_all_csv_in_folder(input_folder, output_folder):\n",
    "    # List all CSV files in the input folder\n",
    "    input_files = [f for f in os.listdir(input_folder) if f.endswith('.csv')]\n",
    "    \n",
    "    # Process each file\n",
    "    for input_file in input_files:\n",
    "        # Construct the full file paths\n",
    "        input_path = os.path.join(input_folder, input_file)\n",
    "        output_path = os.path.join(output_folder, input_file)\n",
    "        \n",
    "        # Load the CSV file into a DataFrame\n",
    "        df = pd.read_csv(input_path)\n",
    "        \n",
    "        # Extract the 'Date' from the 'datetime' column (format: MM/DD/YYYY)\n",
    "        df['Date'] = pd.to_datetime(df['datetime']).dt.strftime('%m/%d/%Y')\n",
    "        \n",
    "        # Convert '00060_Mean' to the desired format (remove commas and convert to integers)\n",
    "        df['Q (ft3/s)'] = df['00060_Mean'].apply(lambda x: f'{int(x):,}')\n",
    "        \n",
    "        # Select only the 'Date' and 'Q (ft3/s)' columns for the output\n",
    "        df_output = df[['Date', 'Q (ft3/s)']]\n",
    "        \n",
    "        # Save the output DataFrame to the new CSV file\n",
    "        df_output.to_csv(output_path, index=False)\n",
    "\n",
    "# Example usage:\n",
    "input_folder = '../Data/USGS'  # Folder containing the input files\n",
    "output_folder = '../Data/Discharge'  # Folder for the output files\n",
    "convert_all_csv_in_folder(input_folder, output_folder)\n"
   ]
  },
  {
   "cell_type": "code",
   "execution_count": null,
   "metadata": {},
   "outputs": [],
   "source": []
  }
 ],
 "metadata": {
  "kernelspec": {
   "display_name": "general",
   "language": "python",
   "name": "python3"
  },
  "language_info": {
   "codemirror_mode": {
    "name": "ipython",
    "version": 3
   },
   "file_extension": ".py",
   "mimetype": "text/x-python",
   "name": "python",
   "nbconvert_exporter": "python",
   "pygments_lexer": "ipython3",
   "version": "3.13.0"
  }
 },
 "nbformat": 4,
 "nbformat_minor": 2
}
